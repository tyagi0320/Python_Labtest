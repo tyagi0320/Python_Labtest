{
 "cells": [
  {
   "cell_type": "code",
   "execution_count": 14,
   "id": "a08706b8-6f07-485f-b5df-7f365e69fb48",
   "metadata": {},
   "outputs": [
    {
     "name": "stdin",
     "output_type": "stream",
     "text": [
      "number of employees 5\n",
      "Enter empid e01\n"
     ]
    },
    {
     "ename": "TypeError",
     "evalue": "append() missing 1 required positional argument: 'values'",
     "output_type": "error",
     "traceback": [
      "\u001b[1;31m---------------------------------------------------------------------------\u001b[0m",
      "\u001b[1;31mTypeError\u001b[0m                                 Traceback (most recent call last)",
      "Cell \u001b[1;32mIn[14], line 11\u001b[0m\n\u001b[0;32m      8\u001b[0m salary\u001b[38;5;241m=\u001b[39mnp\u001b[38;5;241m.\u001b[39marray(n)\n\u001b[0;32m     10\u001b[0m \u001b[38;5;28;01mfor\u001b[39;00m i \u001b[38;5;129;01min\u001b[39;00m \u001b[38;5;28mrange\u001b[39m(n):\n\u001b[1;32m---> 11\u001b[0m     empid[i]\u001b[38;5;241m=\u001b[39mnp\u001b[38;5;241m.\u001b[39mappend(\u001b[38;5;28minput\u001b[39m(\u001b[38;5;124m\"\u001b[39m\u001b[38;5;124mEnter empid\u001b[39m\u001b[38;5;124m\"\u001b[39m))\n\u001b[0;32m     12\u001b[0m     attendance[i]\u001b[38;5;241m=\u001b[39mnp\u001b[38;5;241m.\u001b[39mappend(\u001b[38;5;28minput\u001b[39m(\u001b[38;5;124m\"\u001b[39m\u001b[38;5;124mEnter attendance\u001b[39m\u001b[38;5;124m\"\u001b[39m))\n\u001b[0;32m     14\u001b[0m \u001b[38;5;28;01mfor\u001b[39;00m i \u001b[38;5;129;01min\u001b[39;00m \u001b[38;5;28mrange\u001b[39m(n):\n",
      "\u001b[1;31mTypeError\u001b[0m: append() missing 1 required positional argument: 'values'"
     ]
    }
   ],
   "source": [
    "import numpy as np\n",
    "import matplotlib.pyplot as plt\n",
    "\n",
    "n=int(input(\"number of employees\"))\n",
    "empid=np.array(n)\n",
    "attendence=np.array(n)\n",
    "performance=np.array(n)\n",
    "salary=np.array(n)\n",
    "\n",
    "for i in range(n):\n",
    "    empid[i]=np.append(input(\"Enter empid\"))\n",
    "    attendance[i]=np.append(input(\"Enter attendance\"))\n",
    "\n",
    "for i in range(n):\n",
    "    performance[i]=np.append(input(\"Enter employee performance\"))\n",
    "\n",
    "for i in range(n):\n",
    "    salary[i]=np.append(input(\"Enter employee performance\"))\n",
    "\n",
    "\n",
    "maxsalary=np.max(salary)\n",
    "minsalary=np.min(salary)\n",
    "avgsalary=np.avg(salary)\n",
    "\n",
    "empsalary={empid,salary}\n",
    "\n",
    "for i in salary:\n",
    "    highest=np.extract(empid.maxsalary)\n",
    "    lowest=np.extract(empid.minsalary)\n",
    "\n",
    "\n",
    "plt.scatter(empid,performance)\n",
    "plt.display"
   ]
  },
  {
   "cell_type": "code",
   "execution_count": 10,
   "id": "c19fc146-8471-4a7a-91a1-4b0d61587ad8",
   "metadata": {},
   "outputs": [
    {
     "ename": "AttributeError",
     "evalue": "module 'matplotlib.pyplot' has no attribute 'disp'",
     "output_type": "error",
     "traceback": [
      "\u001b[1;31m---------------------------------------------------------------------------\u001b[0m",
      "\u001b[1;31mAttributeError\u001b[0m                            Traceback (most recent call last)",
      "Cell \u001b[1;32mIn[10], line 7\u001b[0m\n\u001b[0;32m      4\u001b[0m y\u001b[38;5;241m=\u001b[39m[\u001b[38;5;241m40\u001b[39m,\u001b[38;5;241m55\u001b[39m,\u001b[38;5;241m70\u001b[39m,\u001b[38;5;241m65\u001b[39m,\u001b[38;5;241m88\u001b[39m,\u001b[38;5;241m94\u001b[39m,\u001b[38;5;241m56\u001b[39m,\u001b[38;5;241m67\u001b[39m,\u001b[38;5;241m49\u001b[39m,\u001b[38;5;241m79\u001b[39m]\n\u001b[0;32m      6\u001b[0m plt\u001b[38;5;241m.\u001b[39mscatter(x,y)\n\u001b[1;32m----> 7\u001b[0m plt\u001b[38;5;241m.\u001b[39mdisp\n",
      "\u001b[1;31mAttributeError\u001b[0m: module 'matplotlib.pyplot' has no attribute 'disp'"
     ]
    },
    {
     "data": {
      "image/png": "[encoded data removed]",
      "text/plain": [
       "<Figure size 640x480 with 1 Axes>"
      ]
     },
     "metadata": {},
     "output_type": "display_data"
    }
   ],
   "source": [
    "import matplotlib.pyplot as plt\n",
    "\n",
    "x=[\"E01\",\"E02\",\"E03\",\"E04\",\"E05\",\"E06\",\"E07\",\"E08\",\"E09\",\"E10\"]\n",
    "y=[40,55,70,65,88,94,56,67,49,79]\n",
    "\n",
    "plt.scatter(x,y)\n",
    "plt.disp"
   ]
  },
  {
   "cell_type": "code",
   "execution_count": null,
   "id": "24845886-fd3b-42cf-86a6-4f1e45bf97c5",
   "metadata": {},
   "outputs": [],
   "source": []
  },
  {
   "cell_type": "code",
   "execution_count": null,
   "id": "1b1f8035-5a28-4ef1-aade-773dd4152798",
   "metadata": {},
   "outputs": [],
   "source": []
  }
 ],
 "metadata": {
  "kernelspec": {
   "display_name": "Python 3 (ipykernel)",
   "language": "python",
   "name": "python3"
  },
  "language_info": {
   "codemirror_mode": {
    "name": "ipython",
    "version": 3
   },
   "file_extension": ".py",
   "mimetype": "text/x-python",
   "name": "python",
   "nbconvert_exporter": "python",
   "pygments_lexer": "ipython3",
   "version": "3.12.4"
  }
 },
 "nbformat": 4,
 "nbformat_minor": 5
}
